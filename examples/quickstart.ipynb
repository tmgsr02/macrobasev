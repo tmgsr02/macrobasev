{
 "cells": [
  {
   "cell_type": "markdown",
   "metadata": {},
   "source": [
    "# MacroBase Python Quickstart\n",
    "\n",
    "This notebook demonstrates how to load a dataset, run the high-level `analyze` function, and explore the results."
   ]
  },
  {
   "cell_type": "code",
   "execution_count": null,
   "metadata": {},
   "outputs": [],
   "source": [
    "from macrobase_py.api import analyze\n",
    "\n",
    "result = analyze(\"../core/demo/sample.csv\", config={\n",
    "    \"target_column\": \"usage\",\n",
    "    \"pivot\": [\n",
    "        {\"index\": \"location\", \"values\": [\"usage\"], \"aggfunc\": \"mean\"}\n",
    "    ],\n",
    "})\n",
    "\n",
    "result.row_count, result.column_count"
   ]
  },
  {
   "cell_type": "code",
   "execution_count": null,
   "metadata": {},
   "outputs": [],
   "source": [
    "import pandas as pd\n",
    "\n",
    "pd.DataFrame([profile.__dict__ for profile in result.column_profiles]).head()"
   ]
  },
  {
   "cell_type": "code",
   "execution_count": null,
   "metadata": {},
   "outputs": [],
   "source": [
    "result.correlation_matrix"
   ]
  }
 ],
 "metadata": {
  "kernelspec": {
   "display_name": "Python 3",
   "language": "python",
   "name": "python3"
  },
  "language_info": {
   "name": "python",
   "version": "3.11"
  }
 },
 "nbformat": 4,
 "nbformat_minor": 5
}
