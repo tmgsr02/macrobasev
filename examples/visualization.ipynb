{
 "cells": [
  {
   "cell_type": "markdown",
   "metadata": {},
   "source": [
    "# MacroBase Visualization Helpers\n",
    "\n",
    "This notebook demonstrates how to use the convenience plotting utilities in `macrobase_py.viz`."
   ]
  },
  {
   "cell_type": "code",
   "execution_count": null,
   "metadata": {},
   "outputs": [],
   "source": [
    "%matplotlib inline\n",
    "\n",
    "from macrobase_py.api import analyze\n",
    "from macrobase_py.viz import renderers\n",
    "\n",
    "result = analyze(\"../core/demo/sample.csv\", config={\n",
    "    \"target_column\": \"usage\",\n",
    "    \"pivot\": [\n",
    "        {\"index\": \"location\", \"columns\": \"version\", \"values\": [\"latency\"], \"aggfunc\": \"mean\"}\n",
    "    ],\n",
    "})"
   ]
  },
  {
   "cell_type": "code",
   "execution_count": null,
   "metadata": {},
   "outputs": [],
   "source": [
    "renderers.render_summary_table(result);"
   ]
  },
  {
   "cell_type": "code",
   "execution_count": null,
   "metadata": {},
   "outputs": [],
   "source": [
    "renderers.plot_pivot_heatmap(result, metric=\"latency\");"
   ]
  }
 ],
 "metadata": {
  "kernelspec": {
   "display_name": "Python 3",
   "language": "python",
   "name": "python3"
  },
  "language_info": {
   "name": "python",
   "version": "3.11"
  }
 },
 "nbformat": 4,
 "nbformat_minor": 5
}
